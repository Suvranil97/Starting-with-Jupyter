{
  "nbformat": 4,
  "nbformat_minor": 0,
  "metadata": {
    "colab": {
      "name": "biased random walk in a regular network.ipynb",
      "provenance": [],
      "authorship_tag": "ABX9TyN6FI3mHUjyL5HD1yN6Cx5N",
      "include_colab_link": true
    },
    "kernelspec": {
      "name": "python3",
      "display_name": "Python 3"
    }
  },
  "cells": [
    {
      "cell_type": "markdown",
      "metadata": {
        "id": "view-in-github",
        "colab_type": "text"
      },
      "source": [
        "<a href=\"https://colab.research.google.com/github/Suvranil97/Starting-with-Jupyter/blob/master/biased_random_walk_in_a_regular_network.ipynb\" target=\"_parent\"><img src=\"https://colab.research.google.com/assets/colab-badge.svg\" alt=\"Open In Colab\"/></a>"
      ]
    },
    {
      "cell_type": "markdown",
      "metadata": {
        "id": "Rx2pJpjYnZe-"
      },
      "source": [
        "## Program background\n",
        "* This is property of the half blood prince.\n",
        "* **Target:** Here we want to find out the relation between cover time and first passage time for biased random walk in an arbitrary complex network. We apreical exlready know the results for unbiased network. Now we want to do first simulate cover time in a complex network (for biased random walk). Then we will inspect if there is any analytical way to express cover time by first passage time.\n",
        "* **Source:** <br>\n",
        "    * [Bonaventura, M., Nicosia, V., & Latora, V. (2014). Characteristic times of biased random walks on complex networks. Physical Review E - Statistical, Nonlinear, and Soft Matter Physics, 89(1), 1–15.](https://doi.org/10.1103/PhysRevE.89.012803)\n",
        "    * [Maier, B. F., & Brockmann, D. (2017). Cover time for random walks on arbitrary complex networks.Physical Review E, 96(4), 1–9.](https://doi.org/10.1103/PhysRevE.96.042307)\n",
        "    * [Masuda, N., Porter, M. A., & Lambiotte, R. (2017). Random walks and diffusion on networks. Physics Reports, 716–717, 1–58.](https://doi.org/10.1016/j.physrep.2017.07.007)\n",
        "\n",
        "* **Comment**: This work is in progress. So neither sources nor all comments in program and background stories are completed. We will keep it updated with time.\n",
        "\n"
      ]
    },
    {
      "cell_type": "code",
      "metadata": {
        "id": "vJAm9lsanf6_"
      },
      "source": [
        "#call important library\n",
        "import numpy as np\n",
        "import networkx as nx\n",
        "import scipy\n",
        "import matplotlib.pyplot as plt\n",
        "import bisect\n",
        "from joblib import Parallel, delayed"
      ],
      "execution_count": null,
      "outputs": []
    },
    {
      "cell_type": "code",
      "metadata": {
        "id": "v7hWNqoNn0Xb"
      },
      "source": [
        "def graph1(d,N):  #N= number of total node and p= probability\n",
        "    return nx.random_regular_graph(d,N)   #random regular graph\n",
        "    "
      ],
      "execution_count": null,
      "outputs": []
    },
    {
      "cell_type": "code",
      "metadata": {
        "id": "7oKn4YOwn_yB"
      },
      "source": [
        "def transition_matrix(graph,alpha):                # making transition matrix for biased random walk\n",
        "    N=nx.number_of_nodes(graph)                    #total number of nodes in the graph\n",
        "    pi=np.zeros((N,N))                             # data structure for transition matrix\n",
        "    A=nx.adjacency_matrix(graph)                   # adjacency matrix of the graph\n",
        "    for i in range (0,N,1):\n",
        "        total=0\n",
        "        for l in range(0,N,1):\n",
        "            total=A[i,l]*(graph.degree(l))**alpha+total          #summation from denominator of equation (1)\n",
        "        for j in range (0,N,1):\n",
        "            pi[j][i]=(A[i,j]*(graph.degree(j))**alpha)/total     #implementation of equation (1)\n",
        "        \n",
        "    return pi\n"
      ],
      "execution_count": null,
      "outputs": []
    },
    {
      "cell_type": "markdown",
      "metadata": {
        "id": "XnlW_3OfodJI"
      },
      "source": [
        "Here we will try to find out the fundamental matrix. Formula of fundamental matrix: <br>\n",
        "$\\begin{equation}z=(\\mathbb{1}-\\pi^T +w)^{-1}\\tag{1}\\end{equation}$ <br>where z is fundamental matrix, $\\mathbb{1}$ is identity matrix of order N(total number of nodes, $\\pi$ is transition matrix and each row of $w$ is equal to the stationary probability distribution.  [Ref :Equation 15 of this paper](https://journals.aps.org/pre/abstract/10.1103/PhysRevE.85.056120)<br>\n",
        "**Note**: *Stationary probability distribution:* <br>\n",
        "$\\pi p^*=p^*\\tag {2}$ where $p^*$ is stationary probability distribution. So to finding stationary probability, we have to find out eigenvector of $\\pi$ corresponding to eigenvalue 1. By the way, it's the largest eigenvalue of transition matrix. [Ref:Check the paragraph after equation (45) of this review article](http://dx.doi.org/10.1016/j.physrep.2017.07.007)\n"
      ]
    },
    {
      "cell_type": "code",
      "metadata": {
        "id": "Ka3CvdCuofV2"
      },
      "source": [
        "#Finding stationary_probability distribution\n",
        "def stationary_probability(matrix):       #here matrix equivalent to pi(aka transition matrix)\n",
        "    evals, evecs = scipy.sparse.linalg.eigs(matrix, k=1, which='LM')\n",
        "    total=np.sum(abs(evecs))  #normalization of probability\n",
        "    stationary_probability_matrix=abs(evecs)/total #to making summation of all probility 1\n",
        "    return stationary_probability_matrix\n",
        "#comment: with this scipy function, we can find out maximum (N-1) eigenvector of an N order matrix.Here k \n",
        "#(contd.) stands for number of desired eigenvector and 'LM' stands for largest magnitude.     "
      ],
      "execution_count": null,
      "outputs": []
    },
    {
      "cell_type": "code",
      "metadata": {
        "id": "w13VsBpSovIx"
      },
      "source": [
        "def fundamental_matrix(N,pi,stationary_probability_matrix):\n",
        "    w=np.zeros((N,N))     # each row of w is equal to the stationary probability distribution\n",
        "    identity = np.identity(N)                #identity matrix of order N\n",
        "    pi_transpose=np.transpose(pi)            # transpose of transition matrix\n",
        "    for i in range (0,N,1):\n",
        "        for j in range (0,N,1):\n",
        "            w[i][j]=stationary_probability_matrix[j]     #stationary probability matrix is p* in equation (2)  \n",
        "    fundamental=np.linalg.inv(identity-pi_transpose+w)            #fundamental  matrix from equation (1)\n",
        "    return fundamental"
      ],
      "execution_count": null,
      "outputs": []
    },
    {
      "cell_type": "markdown",
      "metadata": {
        "id": "RhuwGToqo6QR"
      },
      "source": [
        "Using fundamental matrix, we can easily find out the MFPT (mean first passage time) matrix. We know,<br>\n",
        "$\\begin{align}\n",
        "t_{ij}=\\frac{z_{jj}-z_{ij}}{p_{j}^*}\n",
        "\\end{align}\n",
        "$\n"
      ]
    },
    {
      "cell_type": "code",
      "metadata": {
        "id": "1QRS8fLlo-p0"
      },
      "source": [
        "def mfpt_matrix(N,stationary_probability_matrix,fundamental_matrix):\n",
        "    mfpt=np.zeros((N,N))                #data structure for mfpt matrix\n",
        "    for i in range (0,N,1):\n",
        "        for j in range (0,N,1):\n",
        "            mfpt[i][j]=(fundamental_matrix[j][j]-fundamental_matrix[i][j])/stationary_probability_matrix[j]  #implementation of eq(3)\n",
        "    return mfpt"
      ],
      "execution_count": null,
      "outputs": []
    },
    {
      "cell_type": "code",
      "metadata": {
        "id": "Xanpih5opLLy"
      },
      "source": [
        "def probability_matrix(N,pi):\n",
        "    probability_matrix=np.zeros((N,N))     #data structure for an matrix which row is fibonacci series\n",
        "    probability=100*(np.transpose(pi))     #mutiplying wth 100 to use randint\n",
        "    for i in range (0,N,1):                \n",
        "        for j in range (0,N,1):\n",
        "            if j!=0:\n",
        "                probability_matrix[i][j]= probability_matrix[i][j-1]+probability[i,j]   #fibonacci series\n",
        "            else:\n",
        "                probability_matrix[i][j]=probability[i,j]             # for first element in a row\n",
        "    return probability_matrix"
      ],
      "execution_count": null,
      "outputs": []
    },
    {
      "cell_type": "code",
      "metadata": {
        "id": "J868Sx7upRP_"
      },
      "source": [
        "def gmct2(source1,random_walker,max_walk_time,probability_matrix):\n",
        "    coverage_time=np.zeros(random_walker)                 #data structure to contain coverage time of every walker\n",
        "    for walker in range (0,random_walker,1):              # various random walkers\n",
        "        cover_time=[]   #data structure containing path of walker\n",
        "        for j in range (0,max_walk_time,1):     #this max_walk_time should be depend on computation power and number\n",
        "            cover_time=np.append(cover_time,source1)#(cont.) number of node of system\n",
        "            if len(np.unique(cover_time))==N:   #game over when every node is touched\n",
        "                total=len(cover_time)\n",
        "                break\n",
        "            else:\n",
        "                array=probability_matrix[source1]      #select corresponding row of probability matrix\n",
        "                number=np.random.randint(1,101)\n",
        "                source1=bisect.bisect_left(array,number, lo=0, hi=len(a)-1)\n",
        "        coverage_time[walker]=total\n",
        "    #mean_coverage_time_matrix[source1]=np.sum(coverage_time)/random_walker\n",
        "    return (np.sum(coverage_time)/ random_walker) "
      ],
      "execution_count": null,
      "outputs": []
    },
    {
      "cell_type": "code",
      "metadata": {
        "id": "Vx7Qs6TEhWbU"
      },
      "source": [
        "def gmct2(source1,random_walker,max_walk_time,probability_matrix,N,transition_matrix):\n",
        "    coverage_time=np.zeros(random_walker)                 #data structure to contain coverage time of every walker\n",
        "    for walker in range (0,random_walker,1):              # various random walkers\n",
        "        cover_time=[]   #data structure containing path of walker\n",
        "        for j in range (0,max_walk_time,1):     #this max_walk_time should be depend on computation power and number\n",
        "            cover_time=np.append(cover_time,source1)#(cont.) number of node of system\n",
        "            if len(np.unique(cover_time))==N:   #game over when every node is touched\n",
        "                total=len(cover_time)\n",
        "                break\n",
        "            else:\n",
        "                array=probability_matrix[source1]      #select corresponding row of probability matrix\n",
        "                number=np.random.randint(1,101)\n",
        "                source1=bisect.bisect_left(array,number, lo=0, hi=len(transition_matrix)-1)\n",
        "        coverage_time[walker]=total\n",
        "    #mean_coverage_time_matrix[source1]=np.sum(coverage_time)/random_walker\n",
        "    return (np.sum(coverage_time)/ random_walker) "
      ],
      "execution_count": null,
      "outputs": []
    },
    {
      "cell_type": "code",
      "metadata": {
        "id": "-f6RjH8dpWv9",
        "outputId": "ce1e71f3-145f-403d-fded-a5b9367f5b75",
        "colab": {
          "base_uri": "https://localhost:8080/",
          "height": 333
        }
      },
      "source": [
        "%%time\n",
        "N=100\n",
        "alpha=0.0\n",
        "random_walker=10\n",
        "max_walk_time=10**6\n",
        "highest_number_of_node=21\n",
        "lowest_number_of_node=5\n",
        "global_mean_coverage_time=np.zeros(highest_number_of_node-lowest_number_of_node)  \n",
        "degree=np.zeros(highest_number_of_node-lowest_number_of_node)\n",
        "for d in range (lowest_number_of_node,highest_number_of_node,1):\n",
        "    g=graph1(d,N)\n",
        "    a=transition_matrix(g,alpha)\n",
        "    b=stationary_probability(a)\n",
        "    c=fundamental_matrix(N,a,b)\n",
        "    e=mfpt_matrix(N,b,c)\n",
        "    f=probability_matrix(N,a)\n",
        "    mean_coverage_time_matrix=np.zeros(N)\n",
        "    mean_coverage_time=Parallel(n_jobs=4,verbose=0)(delayed(gmct2)(i,random_walker,max_walk_time,f,N,a) for i in range (0,N))\n",
        "    global_mean_coverage_time[d-lowest_number_of_node]=np.sum(mean_coverage_time)/N\n",
        "    degree[d-lowest_number_of_node]=(d)\n",
        "\n",
        "#Plot details\n",
        "plt.scatter(degree,global_mean_coverage_time)\n",
        "plt.xscale('log')\n",
        "plt.yscale('log')\n",
        "plt.xlabel('degree (k)')\n",
        "plt.ylabel('mean_cover_time')\n",
        "plt.title('Regular simulation')\n",
        "#print(a)"
      ],
      "execution_count": null,
      "outputs": [
        {
          "output_type": "stream",
          "text": [
            "CPU times: user 17 s, sys: 1.37 s, total: 18.4 s\n",
            "Wall time: 5min 27s\n"
          ],
          "name": "stdout"
        },
        {
          "output_type": "display_data",
          "data": {
            "image/png": "[encoded data removed]",
            "text/plain": [
              "<Figure size 432x288 with 1 Axes>"
            ]
          },
          "metadata": {
            "tags": [],
            "needs_background": "light"
          }
        }
      ]
    }
  ]
}